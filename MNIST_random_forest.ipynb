{
 "cells": [
  {
   "cell_type": "code",
   "execution_count": 1,
   "id": "f4f08514-62af-466f-abf4-a12b72d642b2",
   "metadata": {},
   "outputs": [],
   "source": [
    "import cv2\n",
    "import pandas as pd\n",
    "import matplotlib.pyplot as plt\n",
    "import numpy as np\n",
    "from skimage.io import imread\n",
    "from skimage.transform import resize\n",
    "from sklearn.model_selection import train_test_split\n",
    "import os\n",
    "from sklearn.metrics import accuracy_score\n",
    "from sklearn.preprocessing import StandardScaler\n",
    "from matplotlib.pyplot import imshow\n",
    "from joblib import dump, load\n",
    "import copy\n",
    "from sklearn.metrics import confusion_matrix\n",
    "#from sklearn.metrics import plot_confusion_matrix\n",
    "import seaborn as sns\n",
    "from sklearn.ensemble import RandomForestClassifier\n",
    "from sklearn.datasets import load_digits\n",
    "from tensorflow.keras.datasets import mnist\n",
    "from sklearn.metrics import mean_squared_error"
   ]
  },
  {
   "cell_type": "markdown",
   "id": "b5da0777-0dd4-4233-b805-6755ebdd5a19",
   "metadata": {
    "tags": []
   },
   "source": [
    "# <font color='blue'> Classification EMNIST dataset </font>"
   ]
  },
  {
   "cell_type": "code",
   "execution_count": 59,
   "id": "44e2fa67-aa62-4c0d-b3e4-bff30fbbe7d7",
   "metadata": {},
   "outputs": [
    {
     "data": {
      "text/html": [
       "<div>\n",
       "<style scoped>\n",
       "    .dataframe tbody tr th:only-of-type {\n",
       "        vertical-align: middle;\n",
       "    }\n",
       "\n",
       "    .dataframe tbody tr th {\n",
       "        vertical-align: top;\n",
       "    }\n",
       "\n",
       "    .dataframe thead th {\n",
       "        text-align: right;\n",
       "    }\n",
       "</style>\n",
       "<table border=\"1\" class=\"dataframe\">\n",
       "  <thead>\n",
       "    <tr style=\"text-align: right;\">\n",
       "      <th></th>\n",
       "      <th>0</th>\n",
       "      <th>1</th>\n",
       "      <th>2</th>\n",
       "      <th>3</th>\n",
       "      <th>4</th>\n",
       "      <th>5</th>\n",
       "      <th>6</th>\n",
       "      <th>7</th>\n",
       "      <th>8</th>\n",
       "      <th>9</th>\n",
       "      <th>...</th>\n",
       "      <th>775</th>\n",
       "      <th>776</th>\n",
       "      <th>777</th>\n",
       "      <th>778</th>\n",
       "      <th>779</th>\n",
       "      <th>780</th>\n",
       "      <th>781</th>\n",
       "      <th>782</th>\n",
       "      <th>783</th>\n",
       "      <th>784</th>\n",
       "    </tr>\n",
       "  </thead>\n",
       "  <tbody>\n",
       "    <tr>\n",
       "      <th>0</th>\n",
       "      <td>8</td>\n",
       "      <td>0</td>\n",
       "      <td>0</td>\n",
       "      <td>0</td>\n",
       "      <td>0</td>\n",
       "      <td>0</td>\n",
       "      <td>0</td>\n",
       "      <td>0</td>\n",
       "      <td>0</td>\n",
       "      <td>0</td>\n",
       "      <td>...</td>\n",
       "      <td>0</td>\n",
       "      <td>0</td>\n",
       "      <td>0</td>\n",
       "      <td>0</td>\n",
       "      <td>0</td>\n",
       "      <td>0</td>\n",
       "      <td>0</td>\n",
       "      <td>0</td>\n",
       "      <td>0</td>\n",
       "      <td>0</td>\n",
       "    </tr>\n",
       "    <tr>\n",
       "      <th>1</th>\n",
       "      <td>9</td>\n",
       "      <td>0</td>\n",
       "      <td>0</td>\n",
       "      <td>0</td>\n",
       "      <td>0</td>\n",
       "      <td>0</td>\n",
       "      <td>0</td>\n",
       "      <td>0</td>\n",
       "      <td>0</td>\n",
       "      <td>0</td>\n",
       "      <td>...</td>\n",
       "      <td>0</td>\n",
       "      <td>0</td>\n",
       "      <td>0</td>\n",
       "      <td>0</td>\n",
       "      <td>0</td>\n",
       "      <td>0</td>\n",
       "      <td>0</td>\n",
       "      <td>0</td>\n",
       "      <td>0</td>\n",
       "      <td>0</td>\n",
       "    </tr>\n",
       "    <tr>\n",
       "      <th>2</th>\n",
       "      <td>6</td>\n",
       "      <td>0</td>\n",
       "      <td>0</td>\n",
       "      <td>0</td>\n",
       "      <td>0</td>\n",
       "      <td>0</td>\n",
       "      <td>0</td>\n",
       "      <td>0</td>\n",
       "      <td>0</td>\n",
       "      <td>0</td>\n",
       "      <td>...</td>\n",
       "      <td>0</td>\n",
       "      <td>0</td>\n",
       "      <td>0</td>\n",
       "      <td>0</td>\n",
       "      <td>0</td>\n",
       "      <td>0</td>\n",
       "      <td>0</td>\n",
       "      <td>0</td>\n",
       "      <td>0</td>\n",
       "      <td>0</td>\n",
       "    </tr>\n",
       "    <tr>\n",
       "      <th>3</th>\n",
       "      <td>3</td>\n",
       "      <td>0</td>\n",
       "      <td>0</td>\n",
       "      <td>0</td>\n",
       "      <td>0</td>\n",
       "      <td>0</td>\n",
       "      <td>0</td>\n",
       "      <td>0</td>\n",
       "      <td>0</td>\n",
       "      <td>0</td>\n",
       "      <td>...</td>\n",
       "      <td>0</td>\n",
       "      <td>0</td>\n",
       "      <td>0</td>\n",
       "      <td>0</td>\n",
       "      <td>0</td>\n",
       "      <td>0</td>\n",
       "      <td>0</td>\n",
       "      <td>0</td>\n",
       "      <td>0</td>\n",
       "      <td>0</td>\n",
       "    </tr>\n",
       "    <tr>\n",
       "      <th>4</th>\n",
       "      <td>6</td>\n",
       "      <td>0</td>\n",
       "      <td>0</td>\n",
       "      <td>0</td>\n",
       "      <td>0</td>\n",
       "      <td>0</td>\n",
       "      <td>0</td>\n",
       "      <td>0</td>\n",
       "      <td>0</td>\n",
       "      <td>0</td>\n",
       "      <td>...</td>\n",
       "      <td>0</td>\n",
       "      <td>0</td>\n",
       "      <td>0</td>\n",
       "      <td>0</td>\n",
       "      <td>0</td>\n",
       "      <td>0</td>\n",
       "      <td>0</td>\n",
       "      <td>0</td>\n",
       "      <td>0</td>\n",
       "      <td>0</td>\n",
       "    </tr>\n",
       "    <tr>\n",
       "      <th>...</th>\n",
       "      <td>...</td>\n",
       "      <td>...</td>\n",
       "      <td>...</td>\n",
       "      <td>...</td>\n",
       "      <td>...</td>\n",
       "      <td>...</td>\n",
       "      <td>...</td>\n",
       "      <td>...</td>\n",
       "      <td>...</td>\n",
       "      <td>...</td>\n",
       "      <td>...</td>\n",
       "      <td>...</td>\n",
       "      <td>...</td>\n",
       "      <td>...</td>\n",
       "      <td>...</td>\n",
       "      <td>...</td>\n",
       "      <td>...</td>\n",
       "      <td>...</td>\n",
       "      <td>...</td>\n",
       "      <td>...</td>\n",
       "      <td>...</td>\n",
       "    </tr>\n",
       "    <tr>\n",
       "      <th>239995</th>\n",
       "      <td>4</td>\n",
       "      <td>0</td>\n",
       "      <td>0</td>\n",
       "      <td>0</td>\n",
       "      <td>0</td>\n",
       "      <td>0</td>\n",
       "      <td>0</td>\n",
       "      <td>0</td>\n",
       "      <td>0</td>\n",
       "      <td>0</td>\n",
       "      <td>...</td>\n",
       "      <td>0</td>\n",
       "      <td>0</td>\n",
       "      <td>0</td>\n",
       "      <td>0</td>\n",
       "      <td>0</td>\n",
       "      <td>0</td>\n",
       "      <td>0</td>\n",
       "      <td>0</td>\n",
       "      <td>0</td>\n",
       "      <td>0</td>\n",
       "    </tr>\n",
       "    <tr>\n",
       "      <th>239996</th>\n",
       "      <td>2</td>\n",
       "      <td>0</td>\n",
       "      <td>0</td>\n",
       "      <td>0</td>\n",
       "      <td>0</td>\n",
       "      <td>0</td>\n",
       "      <td>0</td>\n",
       "      <td>0</td>\n",
       "      <td>0</td>\n",
       "      <td>0</td>\n",
       "      <td>...</td>\n",
       "      <td>0</td>\n",
       "      <td>0</td>\n",
       "      <td>0</td>\n",
       "      <td>0</td>\n",
       "      <td>0</td>\n",
       "      <td>0</td>\n",
       "      <td>0</td>\n",
       "      <td>0</td>\n",
       "      <td>0</td>\n",
       "      <td>0</td>\n",
       "    </tr>\n",
       "    <tr>\n",
       "      <th>239997</th>\n",
       "      <td>1</td>\n",
       "      <td>0</td>\n",
       "      <td>0</td>\n",
       "      <td>0</td>\n",
       "      <td>0</td>\n",
       "      <td>0</td>\n",
       "      <td>0</td>\n",
       "      <td>0</td>\n",
       "      <td>0</td>\n",
       "      <td>0</td>\n",
       "      <td>...</td>\n",
       "      <td>0</td>\n",
       "      <td>0</td>\n",
       "      <td>0</td>\n",
       "      <td>0</td>\n",
       "      <td>0</td>\n",
       "      <td>0</td>\n",
       "      <td>0</td>\n",
       "      <td>0</td>\n",
       "      <td>0</td>\n",
       "      <td>0</td>\n",
       "    </tr>\n",
       "    <tr>\n",
       "      <th>239998</th>\n",
       "      <td>1</td>\n",
       "      <td>0</td>\n",
       "      <td>0</td>\n",
       "      <td>0</td>\n",
       "      <td>0</td>\n",
       "      <td>0</td>\n",
       "      <td>0</td>\n",
       "      <td>0</td>\n",
       "      <td>0</td>\n",
       "      <td>0</td>\n",
       "      <td>...</td>\n",
       "      <td>0</td>\n",
       "      <td>0</td>\n",
       "      <td>0</td>\n",
       "      <td>0</td>\n",
       "      <td>0</td>\n",
       "      <td>0</td>\n",
       "      <td>0</td>\n",
       "      <td>0</td>\n",
       "      <td>0</td>\n",
       "      <td>0</td>\n",
       "    </tr>\n",
       "    <tr>\n",
       "      <th>239999</th>\n",
       "      <td>0</td>\n",
       "      <td>0</td>\n",
       "      <td>0</td>\n",
       "      <td>0</td>\n",
       "      <td>0</td>\n",
       "      <td>0</td>\n",
       "      <td>0</td>\n",
       "      <td>0</td>\n",
       "      <td>0</td>\n",
       "      <td>0</td>\n",
       "      <td>...</td>\n",
       "      <td>0</td>\n",
       "      <td>0</td>\n",
       "      <td>0</td>\n",
       "      <td>0</td>\n",
       "      <td>0</td>\n",
       "      <td>0</td>\n",
       "      <td>0</td>\n",
       "      <td>0</td>\n",
       "      <td>0</td>\n",
       "      <td>0</td>\n",
       "    </tr>\n",
       "  </tbody>\n",
       "</table>\n",
       "<p>240000 rows × 785 columns</p>\n",
       "</div>"
      ],
      "text/plain": [
       "        0    1    2    3    4    5    6    7    8    9    ...  775  776  777  \\\n",
       "0         8    0    0    0    0    0    0    0    0    0  ...    0    0    0   \n",
       "1         9    0    0    0    0    0    0    0    0    0  ...    0    0    0   \n",
       "2         6    0    0    0    0    0    0    0    0    0  ...    0    0    0   \n",
       "3         3    0    0    0    0    0    0    0    0    0  ...    0    0    0   \n",
       "4         6    0    0    0    0    0    0    0    0    0  ...    0    0    0   \n",
       "...     ...  ...  ...  ...  ...  ...  ...  ...  ...  ...  ...  ...  ...  ...   \n",
       "239995    4    0    0    0    0    0    0    0    0    0  ...    0    0    0   \n",
       "239996    2    0    0    0    0    0    0    0    0    0  ...    0    0    0   \n",
       "239997    1    0    0    0    0    0    0    0    0    0  ...    0    0    0   \n",
       "239998    1    0    0    0    0    0    0    0    0    0  ...    0    0    0   \n",
       "239999    0    0    0    0    0    0    0    0    0    0  ...    0    0    0   \n",
       "\n",
       "        778  779  780  781  782  783  784  \n",
       "0         0    0    0    0    0    0    0  \n",
       "1         0    0    0    0    0    0    0  \n",
       "2         0    0    0    0    0    0    0  \n",
       "3         0    0    0    0    0    0    0  \n",
       "4         0    0    0    0    0    0    0  \n",
       "...     ...  ...  ...  ...  ...  ...  ...  \n",
       "239995    0    0    0    0    0    0    0  \n",
       "239996    0    0    0    0    0    0    0  \n",
       "239997    0    0    0    0    0    0    0  \n",
       "239998    0    0    0    0    0    0    0  \n",
       "239999    0    0    0    0    0    0    0  \n",
       "\n",
       "[240000 rows x 785 columns]"
      ]
     },
     "execution_count": 59,
     "metadata": {},
     "output_type": "execute_result"
    }
   ],
   "source": [
    "tr=pd.read_csv(\"D:\\\\A.document\\\\A.opencv\\\\A.Python\\\\datasets\\\\MNIST\\\\emnist-digits-train.csv\",header=None)\n",
    "tr"
   ]
  },
  {
   "cell_type": "code",
   "execution_count": 9,
   "id": "ced2fc03-a4fa-43f8-b266-847e783e30bc",
   "metadata": {},
   "outputs": [],
   "source": [
    "# te=pd.read_csv(\"D:\\\\A.my documents\\\\A.opencv\\\\A.Python\\\\datasets\\\\MNIST\\\\mnist_test.csv\")\n",
    "# te"
   ]
  },
  {
   "cell_type": "code",
   "execution_count": 60,
   "id": "6e226d93-a300-4ee4-b679-bd6dc8ff54c4",
   "metadata": {},
   "outputs": [
    {
     "name": "stdout",
     "output_type": "stream",
     "text": [
      "        1    2    3    4    5    6    7    8    9    10   ...  775  776  777  \\\n",
      "0         0    0    0    0    0    0    0    0    0    0  ...    0    0    0   \n",
      "1         0    0    0    0    0    0    0    0    0    0  ...    0    0    0   \n",
      "2         0    0    0    0    0    0    0    0    0    0  ...    0    0    0   \n",
      "3         0    0    0    0    0    0    0    0    0    0  ...    0    0    0   \n",
      "4         0    0    0    0    0    0    0    0    0    0  ...    0    0    0   \n",
      "...     ...  ...  ...  ...  ...  ...  ...  ...  ...  ...  ...  ...  ...  ...   \n",
      "239995    0    0    0    0    0    0    0    0    0    0  ...    0    0    0   \n",
      "239996    0    0    0    0    0    0    0    0    0    0  ...    0    0    0   \n",
      "239997    0    0    0    0    0    0    0    0    0    0  ...    0    0    0   \n",
      "239998    0    0    0    0    0    0    0    0    0    0  ...    0    0    0   \n",
      "239999    0    0    0    0    0    0    0    0    0    0  ...    0    0    0   \n",
      "\n",
      "        778  779  780  781  782  783  784  \n",
      "0         0    0    0    0    0    0    0  \n",
      "1         0    0    0    0    0    0    0  \n",
      "2         0    0    0    0    0    0    0  \n",
      "3         0    0    0    0    0    0    0  \n",
      "4         0    0    0    0    0    0    0  \n",
      "...     ...  ...  ...  ...  ...  ...  ...  \n",
      "239995    0    0    0    0    0    0    0  \n",
      "239996    0    0    0    0    0    0    0  \n",
      "239997    0    0    0    0    0    0    0  \n",
      "239998    0    0    0    0    0    0    0  \n",
      "239999    0    0    0    0    0    0    0  \n",
      "\n",
      "[240000 rows x 784 columns]\n"
     ]
    }
   ],
   "source": [
    "x_train=tr.drop(tr.columns[[0]],axis=1)\n",
    "#x_test=te.drop(te.columns[[0]],axis=1)\n",
    "print(x_train)\n",
    "#print(x_test)"
   ]
  },
  {
   "cell_type": "code",
   "execution_count": 63,
   "id": "d1efb47a-6802-4cdb-9053-335edb9ba0ec",
   "metadata": {},
   "outputs": [
    {
     "data": {
      "text/plain": [
       "(240000, 28, 28, 1)"
      ]
     },
     "execution_count": 63,
     "metadata": {},
     "output_type": "execute_result"
    }
   ],
   "source": [
    "x_train=np.array(x_train)\n",
    "x_train = x_train.reshape(x_train.shape[0], 28, 28,1)\n",
    "x_train.shape"
   ]
  },
  {
   "cell_type": "code",
   "execution_count": 10,
   "id": "2df75aa1-05da-4acc-97b8-e5586f27dc1d",
   "metadata": {},
   "outputs": [],
   "source": [
    "xtr=[]\n",
    "for inx in range(len(tr)):\n",
    "    d=x_train.iloc[inx,:]\n",
    "    d=np.array(d)\n",
    "    xtr=d.reshape(28,28)\n",
    "#plt.imshow(xtr[0],cmap='gray')"
   ]
  },
  {
   "cell_type": "code",
   "execution_count": 11,
   "id": "73067c96-24c7-4a46-aa14-f41869ad4262",
   "metadata": {},
   "outputs": [
    {
     "data": {
      "text/plain": [
       "(28, 28)"
      ]
     },
     "execution_count": 11,
     "metadata": {},
     "output_type": "execute_result"
    }
   ],
   "source": [
    "xtr.shape"
   ]
  },
  {
   "cell_type": "code",
   "execution_count": 41,
   "id": "77d3fa8c-ff0e-499f-8f84-f194dd7b1ec7",
   "metadata": {},
   "outputs": [
    {
     "name": "stdout",
     "output_type": "stream",
     "text": [
      "0         8\n",
      "1         9\n",
      "2         6\n",
      "3         3\n",
      "4         6\n",
      "         ..\n",
      "239995    4\n",
      "239996    2\n",
      "239997    1\n",
      "239998    1\n",
      "239999    0\n",
      "Name: 0, Length: 240000, dtype: int64\n"
     ]
    }
   ],
   "source": [
    "y_train=tr.iloc[:,0]\n",
    "print(y_train)\n",
    "# y_test=te.iloc[:,0]\n",
    "# print(y_test)"
   ]
  },
  {
   "cell_type": "code",
   "execution_count": 15,
   "id": "6246e29b-1aea-4242-b1e7-e4150877b2a4",
   "metadata": {},
   "outputs": [
    {
     "data": {
      "text/plain": [
       "(59999, 784)"
      ]
     },
     "execution_count": 15,
     "metadata": {},
     "output_type": "execute_result"
    }
   ],
   "source": [
    "x_train.shape"
   ]
  },
  {
   "cell_type": "code",
   "execution_count": 17,
   "id": "e80c0eda-557f-4c8f-a9bf-d71f13f5e4cf",
   "metadata": {},
   "outputs": [],
   "source": [
    "#x_test.shape"
   ]
  },
  {
   "cell_type": "code",
   "execution_count": 42,
   "id": "2d1e8317-b7c8-4d17-9e58-e6efe46d4fc4",
   "metadata": {},
   "outputs": [],
   "source": [
    "x_train=x_train/255\n",
    "#x_test=x_test/255"
   ]
  },
  {
   "cell_type": "code",
   "execution_count": 43,
   "id": "fade1c48-200a-46d3-b9fe-a8240e0289d9",
   "metadata": {},
   "outputs": [],
   "source": [
    "X_train, X_test, y_train, y_test = train_test_split(x_train, y_train, test_size = 0.2,random_state = 0)"
   ]
  },
  {
   "cell_type": "code",
   "execution_count": 21,
   "id": "6c9f7c65-42f9-44c9-b6dc-152058993407",
   "metadata": {},
   "outputs": [
    {
     "data": {
      "text/plain": [
       "(47999, 784)"
      ]
     },
     "execution_count": 21,
     "metadata": {},
     "output_type": "execute_result"
    }
   ],
   "source": [
    "X_train.shape"
   ]
  },
  {
   "cell_type": "code",
   "execution_count": 22,
   "id": "4fd4f990-c154-45bb-88f5-d3bbb68fa5ec",
   "metadata": {},
   "outputs": [
    {
     "data": {
      "text/plain": [
       "(47999,)"
      ]
     },
     "execution_count": 22,
     "metadata": {},
     "output_type": "execute_result"
    }
   ],
   "source": [
    "y_train.shape"
   ]
  },
  {
   "cell_type": "code",
   "execution_count": 52,
   "id": "e2d2dc87-ed37-4540-a8b8-ed46b239a71c",
   "metadata": {},
   "outputs": [
    {
     "data": {
      "text/plain": [
       "(48000,)"
      ]
     },
     "execution_count": 52,
     "metadata": {},
     "output_type": "execute_result"
    }
   ],
   "source": [
    "y_test.shape"
   ]
  },
  {
   "cell_type": "code",
   "execution_count": 46,
   "id": "ceb1e831-15eb-49d7-846b-c7ea0d777630",
   "metadata": {},
   "outputs": [
    {
     "name": "stdout",
     "output_type": "stream",
     "text": [
      "[1 8 6 ... 6 5 7]\n"
     ]
    }
   ],
   "source": [
    "digits1 = RandomForestClassifier(n_estimators=150,max_depth=9, random_state=0)\n",
    "digits1.fit(X_train, y_train)\n",
    "y_pred=digits1.predict(X_test)\n",
    "print(y_pred)"
   ]
  },
  {
   "cell_type": "code",
   "execution_count": 26,
   "id": "83d9f8f5-584f-4135-9364-4093a21cb7d2",
   "metadata": {},
   "outputs": [
    {
     "data": {
      "text/plain": [
       "['RF_M.joblib']"
      ]
     },
     "execution_count": 26,
     "metadata": {},
     "output_type": "execute_result"
    }
   ],
   "source": [
    "dump(digits1, 'RF_M.joblib')"
   ]
  },
  {
   "cell_type": "code",
   "execution_count": 27,
   "id": "b4face2d-d7bc-47f2-bc27-2e4342348643",
   "metadata": {},
   "outputs": [
    {
     "data": {
      "text/plain": [
       "array([3, 6, 6, ..., 7, 6, 5], dtype=int64)"
      ]
     },
     "execution_count": 27,
     "metadata": {},
     "output_type": "execute_result"
    }
   ],
   "source": [
    "RF_Model=load('RF_M.joblib')\n",
    "y_pred1=RF_Model.predict(X_test)\n",
    "y_pred1"
   ]
  },
  {
   "cell_type": "code",
   "execution_count": 54,
   "id": "2f98e8e6-3b30-4ed9-bc9b-dbc06d060c8d",
   "metadata": {},
   "outputs": [],
   "source": [
    "# y_test"
   ]
  },
  {
   "cell_type": "code",
   "execution_count": 22,
   "id": "3f8668b8-22f5-4919-b901-a1eacc8a647a",
   "metadata": {},
   "outputs": [
    {
     "data": {
      "text/plain": [
       "array([3, 6, 6, ..., 7, 6, 5], dtype=int64)"
      ]
     },
     "execution_count": 22,
     "metadata": {},
     "output_type": "execute_result"
    }
   ],
   "source": [
    "y_pred"
   ]
  },
  {
   "cell_type": "code",
   "execution_count": 47,
   "id": "1a36662d-2310-4dc7-bc2b-49a0c08415d8",
   "metadata": {},
   "outputs": [
    {
     "data": {
      "text/plain": [
       "0.947625"
      ]
     },
     "execution_count": 47,
     "metadata": {},
     "output_type": "execute_result"
    }
   ],
   "source": [
    "acc=accuracy_score(y_test,y_pred)\n",
    "acc"
   ]
  },
  {
   "cell_type": "code",
   "execution_count": 58,
   "id": "8801f2d4-47da-41a3-ad1d-4414d5d6f4b4",
   "metadata": {},
   "outputs": [
    {
     "name": "stdout",
     "output_type": "stream",
     "text": [
      "Mean squared error: 0.8574166666666667\n"
     ]
    }
   ],
   "source": [
    "mse = mean_squared_error(y_test, y_pred)\n",
    "print('Mean squared error:',mse)"
   ]
  },
  {
   "cell_type": "code",
   "execution_count": null,
   "id": "3bbb6422-1cb0-43e9-9a38-b77c27a2f1e9",
   "metadata": {},
   "outputs": [],
   "source": []
  },
  {
   "cell_type": "code",
   "execution_count": 57,
   "id": "b70560e8-7a01-4c9f-8769-3f2b46edd210",
   "metadata": {},
   "outputs": [
    {
     "name": "stdout",
     "output_type": "stream",
     "text": [
      "[5]\n"
     ]
    },
    {
     "data": {
      "text/plain": [
       "<matplotlib.image.AxesImage at 0x214ddc793a0>"
      ]
     },
     "execution_count": 57,
     "metadata": {},
     "output_type": "execute_result"
    },
    {
     "data": {
      "image/png": "[encoded data removed]",
      "text/plain": [
       "<Figure size 640x480 with 1 Axes>"
      ]
     },
     "metadata": {},
     "output_type": "display_data"
    }
   ],
   "source": [
    "img3_1=cv2.imread('D:\\\\A.document\\\\A.opencv\\\\A.Python\\\\MNIST\\\\sample\\\\1022.jpg')\n",
    "\n",
    "img2=copy.copy(img3_1)\n",
    "img2=resize(img2,(28,28,1))\n",
    "\n",
    "img2=np.array(img2).reshape(-1,784)\n",
    "\n",
    "img2=img2/255.0\n",
    "#img2.shape\n",
    "y_pred_test=digits1.predict(img2)\n",
    "print(y_pred_test)\n",
    "plt.imshow(img3_1)"
   ]
  },
  {
   "cell_type": "code",
   "execution_count": null,
   "id": "28a8dbf8-7e20-4c29-94cb-368a7640a82f",
   "metadata": {},
   "outputs": [],
   "source": []
  },
  {
   "cell_type": "code",
   "execution_count": null,
   "id": "fcef5c30-f770-47fa-bf7d-2fe5eb63f46e",
   "metadata": {},
   "outputs": [],
   "source": []
  },
  {
   "cell_type": "code",
   "execution_count": null,
   "id": "e7f0480c-0fe9-47a7-8485-9de8fed8604e",
   "metadata": {},
   "outputs": [],
   "source": []
  },
  {
   "cell_type": "code",
   "execution_count": null,
   "id": "7e3275f8-0670-4f4d-bccd-312f61bedafd",
   "metadata": {},
   "outputs": [],
   "source": []
  },
  {
   "cell_type": "code",
   "execution_count": null,
   "id": "54c9fe0a-74c9-4cb8-b7fd-d00bf5bf3569",
   "metadata": {},
   "outputs": [],
   "source": []
  },
  {
   "cell_type": "code",
   "execution_count": null,
   "id": "53058b18-36a1-4937-a042-ecc16e966ded",
   "metadata": {},
   "outputs": [],
   "source": []
  },
  {
   "cell_type": "code",
   "execution_count": null,
   "id": "10220ede-cd47-4665-8c10-c3bb3e3e9374",
   "metadata": {},
   "outputs": [],
   "source": []
  },
  {
   "cell_type": "code",
   "execution_count": null,
   "id": "411c36d4-4bc6-4068-aee0-4683a5db29eb",
   "metadata": {},
   "outputs": [],
   "source": []
  },
  {
   "cell_type": "code",
   "execution_count": null,
   "id": "ab298107-394d-467d-894c-d2e59dc92e40",
   "metadata": {},
   "outputs": [],
   "source": []
  },
  {
   "cell_type": "code",
   "execution_count": null,
   "id": "f2cbc58b-eefa-41ba-9577-8a91406d1938",
   "metadata": {},
   "outputs": [],
   "source": []
  },
  {
   "cell_type": "code",
   "execution_count": 94,
   "id": "512e9ef0-6280-4cb7-b4bc-429dffece423",
   "metadata": {},
   "outputs": [],
   "source": []
  },
  {
   "cell_type": "code",
   "execution_count": null,
   "id": "9903a736-ed75-499e-97cc-19b254755356",
   "metadata": {},
   "outputs": [],
   "source": []
  },
  {
   "cell_type": "code",
   "execution_count": null,
   "id": "07110afe-6f28-4006-8364-ce4a4f783db2",
   "metadata": {},
   "outputs": [],
   "source": []
  },
  {
   "cell_type": "code",
   "execution_count": null,
   "id": "409a9d5e-9c2e-4472-935b-1e9aa56cbd28",
   "metadata": {},
   "outputs": [],
   "source": []
  }
 ],
 "metadata": {
  "kernelspec": {
   "display_name": "Python 3 (ipykernel)",
   "language": "python",
   "name": "python3"
  },
  "language_info": {
   "codemirror_mode": {
    "name": "ipython",
    "version": 3
   },
   "file_extension": ".py",
   "mimetype": "text/x-python",
   "name": "python",
   "nbconvert_exporter": "python",
   "pygments_lexer": "ipython3",
   "version": "3.8.5"
  }
 },
 "nbformat": 4,
 "nbformat_minor": 5
}
